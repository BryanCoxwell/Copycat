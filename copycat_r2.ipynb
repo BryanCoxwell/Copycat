{
 "cells": [
  {
   "cell_type": "code",
   "execution_count": 1,
   "metadata": {},
   "outputs": [],
   "source": [
    "from gpt_helpers import LetterStringAnalogySolver, ModelName\n",
    "\n",
    "solver              = LetterStringAnalogySolver()\n",
    "solver.model        = ModelName.DAVINCI\n",
    "solver.temperature  = 0.7\n",
    "solver.trials       = 5"
   ]
  },
  {
   "cell_type": "code",
   "execution_count": 2,
   "metadata": {},
   "outputs": [
    {
     "name": "stdout",
     "output_type": "stream",
     "text": [
      "Running 5 trials...\n",
      ">>>>>>>>>> PROMPT <<<<<<<<<<\n",
      "Q: If t u v changes to t u w , what does h i j change to?\n",
      "A:\n",
      ">>>>>>>>>> GPT-3 Response <<<<<<<<<< \n",
      "Trial 1: h i k\n",
      "Trial 2: h i k\n",
      "Trial 3: h i k\n",
      "Trial 4: If t u v changes to t u w, then h i j changes to h i k.\n",
      "Trial 5: h i k\n"
     ]
    }
   ],
   "source": [
    "input = [\n",
    "    [\"tuv\", \"tuw\", \"hij\", \"\"]\n",
    "]\n",
    "solver.challenge(input)"
   ]
  },
  {
   "cell_type": "code",
   "execution_count": 6,
   "metadata": {},
   "outputs": [
    {
     "name": "stdout",
     "output_type": "stream",
     "text": [
      "Running 5 trials...\n",
      ">>>>>>>>>> PROMPT <<<<<<<<<<\n",
      "Q: If t u v changes to t u w , what does e f g h i change to?\n",
      "A:\n",
      ">>>>>>>>>> GPT-3 Response <<<<<<<<<< \n",
      "Trial 1: If t u v changes to t u w, e f g h i changes to w x y z.\n",
      "Trial 2: e f h i\n",
      "Trial 3: e f w h i\n",
      "Trial 4: e f h i\n",
      "Trial 5: e f j h i\n"
     ]
    }
   ],
   "source": [
    "input = [\n",
    "    [\"tuv\", \"tuw\", \"efghi\", \"\"]\n",
    "]\n",
    "solver.challenge(input)"
   ]
  },
  {
   "cell_type": "code",
   "execution_count": 7,
   "metadata": {},
   "outputs": [
    {
     "name": "stdout",
     "output_type": "stream",
     "text": [
      "Running 5 trials...\n",
      ">>>>>>>>>> PROMPT <<<<<<<<<<\n",
      "Q: If t u v changes to t u w , what does e f g change to?\n",
      "A: e e f f g g\n",
      "Q: If t u v changes to t u w , what does k l m change to?\n",
      "A:\n",
      ">>>>>>>>>> GPT-3 Response <<<<<<<<<< \n",
      "Trial 1: k k l l m m\n",
      "Trial 2: k k l l m m\n",
      "Trial 3: k k l l m m\n",
      "Trial 4: k l m\n",
      "Trial 5: k k l l m m\n"
     ]
    }
   ],
   "source": [
    "input = [\n",
    "    [\"tuv\", \"tuw\", \"efg\", \"eeffgg\"],\n",
    "    [\"tuv\", \"tuw\", \"klm\", \"\"]\n",
    "]\n",
    "solver.challenge(input)"
   ]
  },
  {
   "cell_type": "code",
   "execution_count": 18,
   "metadata": {},
   "outputs": [
    {
     "name": "stdout",
     "output_type": "stream",
     "text": [
      "Running 5 trials...\n",
      ">>>>>>>>>> PROMPT <<<<<<<<<<\n",
      "Q: If t u v changes to t u w , what does e e f f g g change to?\n",
      "A: e e f f h h\n",
      "Q: If t u v changes to t u w , what does k k l l m m change to?\n",
      "A:\n",
      ">>>>>>>>>> GPT-3 Response <<<<<<<<<< \n",
      "Trial 1: k k l l n n\n",
      "Trial 2: k k l l m m\n",
      "Trial 3: k k l l n n\n",
      "Trial 4: k k l l n n\n",
      "Trial 5: k k l l m m\n"
     ]
    }
   ],
   "source": [
    "input = [\n",
    "    [\"tuv\", \"tuw\", \"eeffgg\", \"eeffhh\"],\n",
    "    [\"tuv\", \"tuw\", \"kkllmm\", \"\"]\n",
    "]\n",
    "solver.challenge(input)"
   ]
  },
  {
   "cell_type": "code",
   "execution_count": 19,
   "metadata": {},
   "outputs": [
    {
     "name": "stdout",
     "output_type": "stream",
     "text": [
      "Running 5 trials...\n",
      ">>>>>>>>>> PROMPT <<<<<<<<<<\n",
      "Q: If t u v changes to t u w , what does e e f f g g change to?\n",
      "A: e e f f h h\n",
      "Q: If t u v changes to t u w , what does k k l l m m n n change to?\n",
      "A:\n",
      ">>>>>>>>>> GPT-3 Response <<<<<<<<<< \n",
      "Trial 1: k k l l m m n n\n",
      "Trial 2: k k l l n n o o\n",
      "Trial 3: k k l l m m n n\n",
      "Trial 4: k k l l m m n n\n",
      "Trial 5: k k l l m m n n\n"
     ]
    }
   ],
   "source": [
    "input = [\n",
    "    [\"tuv\", \"tuw\", \"eeffgg\", \"eeffhh\"],\n",
    "    [\"tuv\", \"tuw\", \"kkllmmnn\", \"\"]\n",
    "]\n",
    "solver.challenge(input)"
   ]
  },
  {
   "cell_type": "code",
   "execution_count": 9,
   "metadata": {},
   "outputs": [
    {
     "name": "stdout",
     "output_type": "stream",
     "text": [
      "Running 5 trials...\n",
      ">>>>>>>>>> PROMPT <<<<<<<<<<\n",
      "Q: If t u v changes to t u w , what does e e f f g g change to?\n",
      "A: e e f f h h\n",
      "Q: If t u v changes to t u w , what does n n o o p p q q change to?\n",
      "A: n n o o p p r r\n",
      "Q: If t u v changes to t u w , what does b b c c d d e e f f change to?\n",
      "A:\n",
      ">>>>>>>>>> GPT-3 Response <<<<<<<<<< \n",
      "Trial 1: b b c c d d e e f f\n",
      "Trial 2: b b c c d d e e h h\n",
      "Trial 3: b b c c d d e e h h\n",
      "Trial 4: b b c c d d e e g g\n",
      "Trial 5: b b c c d d e e h h\n"
     ]
    }
   ],
   "source": [
    "input = [\n",
    "    [\"tuv\", \"tuw\", \"eeffgg\", \"eeffhh\"],\n",
    "    [\"tuv\", \"tuw\", \"nnooppqq\", \"nnoopprr\"],\n",
    "    [\"tuv\", \"tuw\", \"bbccddeeff\", \"\"]\n",
    "]\n",
    "solver.challenge(input)"
   ]
  },
  {
   "cell_type": "code",
   "execution_count": 11,
   "metadata": {},
   "outputs": [
    {
     "name": "stdout",
     "output_type": "stream",
     "text": [
      "Running 5 trials...\n",
      ">>>>>>>>>> PROMPT <<<<<<<<<<\n",
      "Q: If d e e f g h changes to d e f g h , what does q r s s t u change to?\n",
      "A:\n",
      ">>>>>>>>>> GPT-3 Response <<<<<<<<<< \n",
      "Trial 1: q r s t u\n",
      "Trial 2: q r s t u\n",
      "Trial 3: q r s t u\n",
      "Trial 4: q r s t u\n",
      "Trial 5: q r s t u\n"
     ]
    }
   ],
   "source": [
    "input = [\n",
    "    [\"deefgh\", \"defgh\", \"qrsstu\", \"\"]\n",
    "]\n",
    "solver.challenge(input)"
   ]
  },
  {
   "cell_type": "code",
   "execution_count": 12,
   "metadata": {},
   "outputs": [
    {
     "name": "stdout",
     "output_type": "stream",
     "text": [
      "Running 5 trials...\n",
      ">>>>>>>>>> PROMPT <<<<<<<<<<\n",
      "Q: If d u e u f u changes to d e f , what does b u c u d u change to?\n",
      "A:\n",
      ">>>>>>>>>> GPT-3 Response <<<<<<<<<< \n",
      "Trial 1: b c d e\n",
      "Trial 2: b c d e\n",
      "Trial 3: b c d e\n",
      "Trial 4: b c d e\n",
      "Trial 5: b c d\n"
     ]
    }
   ],
   "source": [
    "input = [\n",
    "    [\"dueufu\", \"def\", \"bucudu\", \"\"]\n",
    "]\n",
    "solver.challenge(input)"
   ]
  },
  {
   "cell_type": "code",
   "execution_count": 13,
   "metadata": {},
   "outputs": [
    {
     "name": "stdout",
     "output_type": "stream",
     "text": [
      "Running 5 trials...\n",
      ">>>>>>>>>> PROMPT <<<<<<<<<<\n",
      "Q: If t u v changes to t u w , what does h i j change to?\n",
      "A: h i k\n",
      "Q: If t u v changes to t u w , what does k l m n o change to?\n",
      "A: k l m n p\n",
      "Q: If t u v changes to t u w , what does c d e f g h change to?\n",
      "A: c d e f g i\n",
      "Q: If t u v changes to t u w , what does o t t e e e change to?\n",
      "A:\n",
      ">>>>>>>>>> GPT-3 Response <<<<<<<<<< \n",
      "Trial 1: o t t e e f\n",
      "Trial 2: o u u e e e\n",
      "Trial 3: o t t f e e\n",
      "Trial 4: o t t e e f\n",
      "Trial 5: o t t e e f\n"
     ]
    }
   ],
   "source": [
    "input = [\n",
    "    [\"tuv\", \"tuw\", \"hij\", \"hik\"],\n",
    "    [\"tuv\", \"tuw\", \"klmno\", \"klmnp\"],\n",
    "    [\"tuv\", \"tuw\", \"cdefgh\", \"cdefgi\"],\n",
    "    [\"tuv\", \"tuw\", \"otteee\", \"\"],\n",
    "]\n",
    "solver.challenge(input)"
   ]
  },
  {
   "cell_type": "code",
   "execution_count": 14,
   "metadata": {},
   "outputs": [
    {
     "name": "stdout",
     "output_type": "stream",
     "text": [
      "Running 5 trials...\n",
      ">>>>>>>>>> PROMPT <<<<<<<<<<\n",
      "Q: If o h i changes to o h h i i i , what does j b l change to?\n",
      "A: j b b l l l\n",
      "Q: If o h i changes to o h h i i i , what does y u c v change to?\n",
      "A: y u u c c c v v v v\n",
      "Q: If o h i changes to o h h i i i , what does i p w e change to?\n",
      "A:\n",
      ">>>>>>>>>> GPT-3 Response <<<<<<<<<< \n",
      "Trial 1: i p p w w w e e e e\n",
      "Trial 2: i p p w w w e e e e\n",
      "Trial 3: i p p w w w e e e e\n",
      "Trial 4: i p p w w w e e e e\n",
      "Trial 5: i p p w w w e e e e\n"
     ]
    }
   ],
   "source": [
    "input = [\n",
    "    [\"ohi\", \"ohhiii\", \"jbl\", \"jbblll\"],\n",
    "    [\"ohi\", \"ohhiii\", \"yucv\", \"yuucccvvvv\"],\n",
    "    [\"ohi\", \"ohhiii\", \"ipwe\", \"\"],\n",
    "]\n",
    "solver.challenge(input)"
   ]
  },
  {
   "cell_type": "code",
   "execution_count": 15,
   "metadata": {},
   "outputs": [
    {
     "name": "stdout",
     "output_type": "stream",
     "text": [
      "Running 5 trials...\n",
      ">>>>>>>>>> PROMPT <<<<<<<<<<\n",
      "Q: If t u v changes to t u w , what does t t u t u v change to?\n",
      "A: t t u t u v w\n",
      "Q: If t u v changes to t u w , what does r r s r s t change to?\n",
      "A: r r s r s t u\n",
      "Q: If t u v changes to t u w , what does f f g f g h change to?\n",
      "A:\n",
      ">>>>>>>>>> GPT-3 Response <<<<<<<<<< \n",
      "Trial 1: f f g f g h w\n",
      "Trial 2: f f g f g h w\n",
      "Trial 3: f f g f g h w\n",
      "Trial 4: f f g f g h w\n",
      "Trial 5: f f g f g h w\n"
     ]
    }
   ],
   "source": [
    "input = [\n",
    "    [\"tuv\", \"tuw\", \"ttutuv\", \"ttutuvw\"],\n",
    "    [\"tuv\", \"tuw\", \"rrsrst\", \"rrsrstu\"],\n",
    "    [\"tuv\", \"tuw\", \"ffgfgh\", \"\"],\n",
    "]\n",
    "solver.challenge(input)"
   ]
  },
  {
   "cell_type": "code",
   "execution_count": 16,
   "metadata": {},
   "outputs": [
    {
     "name": "stdout",
     "output_type": "stream",
     "text": [
      "Running 5 trials...\n",
      ">>>>>>>>>> PROMPT <<<<<<<<<<\n",
      "Q: If t u v changes to t u w , what does h i j change to?\n",
      "A: h i k\n",
      "Q: If t u v changes to t u w , what does m n o change to?\n",
      "A: m n p\n",
      "Q: If t u v changes to t u w , what does x y z change to?\n",
      "A:\n",
      ">>>>>>>>>> GPT-3 Response <<<<<<<<<< \n",
      "Trial 1: x y a\n",
      "Trial 2: x y a\n",
      "Trial 3: x y a\n",
      "Trial 4: x y a\n",
      "Trial 5: x y a\n"
     ]
    }
   ],
   "source": [
    "input = [\n",
    "    [\"tuv\", \"tuw\", \"hij\", \"hik\"],\n",
    "    [\"tuv\", \"tuw\", \"mno\", \"mnp\"],\n",
    "    [\"tuv\", \"tuw\", \"xyz\", \"\"],\n",
    "]\n",
    "solver.challenge(input)"
   ]
  },
  {
   "cell_type": "code",
   "execution_count": 17,
   "metadata": {},
   "outputs": [
    {
     "name": "stdout",
     "output_type": "stream",
     "text": [
      "Running 5 trials...\n",
      ">>>>>>>>>> PROMPT <<<<<<<<<<\n",
      "Q: If a o p changes to p o a , what does g u b n change to?\n",
      "A: n b u g\n",
      "Q: If a o p changes to p o a , what does t b c w r change to?\n",
      "A:\n",
      ">>>>>>>>>> GPT-3 Response <<<<<<<<<< \n",
      "Trial 1: r w c b t\n",
      "Trial 2: r w c b t\n",
      "Trial 3: w r c b t\n",
      "Trial 4: w r c b t\n",
      "Trial 5: w r c b t\n"
     ]
    }
   ],
   "source": [
    "input = [\n",
    "    [\"aop\", \"poa\", \"gubn\", \"nbug\"],\n",
    "    [\"aop\", \"poa\", \"tbcwr\", \"\"],\n",
    "]\n",
    "solver.challenge(input)"
   ]
  },
  {
   "cell_type": "code",
   "execution_count": null,
   "metadata": {},
   "outputs": [],
   "source": []
  }
 ],
 "metadata": {
  "kernelspec": {
   "display_name": "Python 3.11.0b5 ('.env': venv)",
   "language": "python",
   "name": "python3"
  },
  "language_info": {
   "codemirror_mode": {
    "name": "ipython",
    "version": 3
   },
   "file_extension": ".py",
   "mimetype": "text/x-python",
   "name": "python",
   "nbconvert_exporter": "python",
   "pygments_lexer": "ipython3",
   "version": "3.11.0b5"
  },
  "orig_nbformat": 4,
  "vscode": {
   "interpreter": {
    "hash": "0d6f052415c956c4c8bd8689ceff4bee1ac327040edc7df8e3b40826f6a76426"
   }
  }
 },
 "nbformat": 4,
 "nbformat_minor": 2
}
