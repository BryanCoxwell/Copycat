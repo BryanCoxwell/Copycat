{
 "cells": [
  {
   "cell_type": "markdown",
   "id": "b86ceeeb",
   "metadata": {},
   "source": [
    "# Copycat\n",
    "\n",
    "In reading about GPT-3 I came across Melanie Mitchell's article [\"Can GPT-3 Make Analogies?\"](https://medium.com/@melaniemitchell.me/can-gpt-3-make-analogies-16436605c446). Both this article and [its follow-up](https://medium.com/@melaniemitchell.me/follow-up-to-can-gpt-3-make-analogies-b202204bd292) were written in August of 2020 and it seems GPT-3 has changed quite a bit since then. Most notably GPT-3 now offers four different models, each with their own tradeoffs between speed, cost, and capabilities. The most capable (and most expensive) model, `text-da-vinci-002`, uses training data from as recently as June of 2021. \n",
    "\n",
    "This made me curious: \n",
    "  1. With the changes to GPT-3, has its ability to solve letter-string analogy problems improved? \n",
    "  2. How does model selection affect performance?\n",
    "  3. How can fine-tuning be used to increase performance?\n",
    "  \n",
    "I'll start by feeding GPT-3 the same prompts Dr. Mitchell did (from the original article as well as its follow-up) using `text-da-vinci-002` through the OpenAI Python API. I'll skip some prompts she used in situations where she needed to provide extra training examples if it seems like GPT-3 already \"gets it\". \n",
    "\n",
    "If you'd like to run or modify this code you'll just need to get an OpenAI API key and set your OPENAI_API_KEY env variable to it. I'll try to keep track of the overall cost in credits as I go. Additionally, I've written a few classes and helper functions in `gpt_helpers.py` to make iterating over different inputs a little easier. \n",
    "\n",
    "## How gpt_helpers.py works\n",
    "The `LetterStringAnalogySolver` class configures the parameters passed to GPT-3, formats input, and displays the response. Configurable GPT-3 parameters are limited to the model name (required) and temperature for now (`max_tokens` is set as a constant).\n",
    "The base prompt which the inputs are formatted into is also configurable. If not set it will default to:\n",
    "\n",
    "```\n",
    "\"Q: if {example_source} changes to {example_target} , what does {challenge_source} change to?\\nA: {challenge_target}\"\n",
    "```\n",
    "If modified, the only requirement on the base prompt is that it includes the same format variables `example_source`, `example_target`, `challenge_source`, and `challenge_target`.\n",
    "\n",
    "The input (prompt data) is a list of lists of strings which will be formatted (in order!) into the base prompt. Formatting includes inserting a space between each character (to avoid issues caused by GPT-3's byte-pair encoding), and cases are preserved. So, for example:\n",
    "```\n",
    "input = [\n",
    "    [\"aaa\", \"bbb\", \"ccc\", \"ddd\"],\n",
    "    [\"fff\", \"ggg\", \"hhh\", \"\"]\n",
    "  ]\n",
    "```\n",
    "would yield the prompt\n",
    "```\n",
    "Q: if a a a changes to b b b , what does c c c change to?\n",
    "A: d d d\n",
    "Q: if f f f changes to g g g , what does h h h change to?\n",
    "A:\n",
    "```\n",
    "Note that the last element of the last list is empty since we want GPT-3 to tell us what it thinks the `challenge_target` is. \n",
    "\n",
    "To pass the input to GPT-3 and receive a response, pass the prompt data to `LetterStringAnalogySolver.challenge()`.\n",
    "To run each request multiple times, set the `trials` parameter. "
   ]
  },
  {
   "cell_type": "markdown",
   "id": "aa82876c",
   "metadata": {},
   "source": [
    "### Setup\n",
    "I'm going to start with the model `text-davinci-002` as it's the most powerful, and I'll use the default temperature of 0.7 and run each prompt 5 times as Dr. Mitchell did. "
   ]
  },
  {
   "cell_type": "code",
   "execution_count": 1,
   "id": "697a14b6",
   "metadata": {},
   "outputs": [],
   "source": [
    "from gpt_helpers import LetterStringAnalogySolver, ModelName\n",
    "\n",
    "solver              = LetterStringAnalogySolver()\n",
    "solver.model        = ModelName.DAVINCI\n",
    "solver.temperature  = 0.7\n",
    "solver.trials       = 5"
   ]
  },
  {
   "cell_type": "markdown",
   "id": "18712be3",
   "metadata": {},
   "source": [
    "### Experiment 1: Simple alphabetic sequences"
   ]
  },
  {
   "cell_type": "code",
   "execution_count": 2,
   "id": "fa473446",
   "metadata": {},
   "outputs": [
    {
     "name": "stdout",
     "output_type": "stream",
     "text": [
      "Running 5 trials...\n",
      ">>>>>>>>>> PROMPT <<<<<<<<<<\n",
      "Q: If a b c changes to a b d , what does p q r change to?\n",
      ">>>>>>>>>> GPT-3 Response <<<<<<<<<< \n",
      "Trial 1: If a b c changes to a b d, p q r changes to p q s.\n",
      "Trial 2: If a b c changes to a b d, then p q r changes to p q s.\n",
      "Trial 3: A: p q s\n",
      "Trial 4: If a b c changes to a b d, then p q r changes to p q s.\n",
      "Trial 5: If a b c changes to a b d, p q r changes to p q s.\n"
     ]
    }
   ],
   "source": [
    "\"\"\" \n",
    "Zero-shot\n",
    "Expected answer: p q s \n",
    "Original results:\n",
    "a b d\n",
    "p q r \n",
    "p q r\n",
    "c d\n",
    "a b c p q r a b c\n",
    "\"\"\"\n",
    "ex1_1_input = [\n",
    "    [\"abc\", \"abd\", \"pqr\", \"\"]\n",
    "]\n",
    "solver.challenge(ex1_1_input)"
   ]
  },
  {
   "cell_type": "code",
   "execution_count": 3,
   "id": "55eb7e93",
   "metadata": {},
   "outputs": [
    {
     "name": "stdout",
     "output_type": "stream",
     "text": [
      "Running 5 trials...\n",
      ">>>>>>>>>> PROMPT <<<<<<<<<<\n",
      "Q: If a b c changes to a b d , what does p q r change to?\n",
      "A: p q s\n",
      "Q: If a b c changes to a b d , what does i j k change to?\n",
      ">>>>>>>>>> GPT-3 Response <<<<<<<<<< \n",
      "Trial 1: A: i j l\n",
      "Trial 2: A: i j l\n",
      "Trial 3: A: i j l\n",
      "Trial 4: A: i j l\n",
      "Trial 5: A: i j l\n"
     ]
    }
   ],
   "source": [
    "\"\"\" \n",
    "One-shot\n",
    "Expected answer: i j l \n",
    "Original results:\n",
    "i j l (each trial)\n",
    "\n",
    "\"\"\"\n",
    "ex1_2_input = [\n",
    "    [\"abc\", \"abd\", \"pqr\", \"pqs\"],\n",
    "    [\"abc\", \"abd\", \"ijk\", \"\"]\n",
    "]\n",
    "solver.challenge(ex1_2_input)"
   ]
  },
  {
   "cell_type": "code",
   "execution_count": 4,
   "id": "b3b90034",
   "metadata": {},
   "outputs": [
    {
     "name": "stdout",
     "output_type": "stream",
     "text": [
      "Running 5 trials...\n",
      ">>>>>>>>>> PROMPT <<<<<<<<<<\n",
      "Q: If a b c changes to a b d , what does i j k l m change to?\n",
      ">>>>>>>>>> GPT-3 Response <<<<<<<<<< \n",
      "Trial 1: If a b c changes to a b d, then i j k l m changes to i j k l n.\n",
      "Trial 2: If a b c changes to a b d, then i j k l m changes to i j k l n.\n",
      "Trial 3: If a b c changes to a b d, then i j k l m changes to i j k l n.\n",
      "Trial 4: A: i j l m\n",
      "Trial 5: I cannot answer this question.\n"
     ]
    }
   ],
   "source": [
    "\"\"\" \n",
    "Generalizing to different string lengths, zero-shot\n",
    "(Not in original article) \n",
    "Expected answer: i j k l n\n",
    "\"\"\"\n",
    "ex1_3_oneshot_input = [\n",
    "    [\"abc\", \"abd\", \"ijklm\", \"\"]\n",
    "]\n",
    "solver.challenge(ex1_3_oneshot_input)"
   ]
  },
  {
   "cell_type": "code",
   "execution_count": 5,
   "id": "c37a0748",
   "metadata": {},
   "outputs": [
    {
     "name": "stdout",
     "output_type": "stream",
     "text": [
      "Running 5 trials...\n",
      ">>>>>>>>>> PROMPT <<<<<<<<<<\n",
      "Q: If a b c changes to a b d , what does p q r change to?\n",
      "A: p q s\n",
      "Q: If a b c changes to a b d , what does i j k l m change to?\n",
      ">>>>>>>>>> GPT-3 Response <<<<<<<<<< \n",
      "Trial 1: A: i j k l n\n",
      "Trial 2: A: i j k l n\n",
      "Trial 3: A: i j k l n\n",
      "Trial 4: A: i j k l n\n",
      "Trial 5: A: i j k l n\n"
     ]
    }
   ],
   "source": [
    "\"\"\" \n",
    "Generalizing to different string lengths \n",
    "Expected answer: i j k l n\n",
    "Original results:\n",
    "i j l m\n",
    "i j k m\n",
    "i j m\n",
    "i j l\n",
    "i j k n\n",
    "\"\"\"\n",
    "ex1_3_input = [\n",
    "    [\"abc\", \"abd\", \"pqr\", \"pqs\"],\n",
    "    [\"abc\", \"abd\", \"ijklm\", \"\"],\n",
    "]\n",
    "solver.challenge(ex1_3_input)"
   ]
  },
  {
   "cell_type": "markdown",
   "id": "595f7ebd",
   "metadata": {},
   "source": [
    "### Experiment 2: Alphabetic sequences with grouping"
   ]
  },
  {
   "cell_type": "code",
   "execution_count": 6,
   "id": "ff0cde54",
   "metadata": {},
   "outputs": [
    {
     "name": "stdout",
     "output_type": "stream",
     "text": [
      "Running 5 trials...\n",
      ">>>>>>>>>> PROMPT <<<<<<<<<<\n",
      "Q: If a b c changes to a b d , what does i i j j k k change to?\n",
      ">>>>>>>>>> GPT-3 Response <<<<<<<<<< \n",
      "Trial 1: A: i i j k k\n",
      "Trial 2: If a b c changes to a b d, then i i j j k k changes to i i j j k k.\n",
      "Trial 3: A: i i j j k d\n",
      "Trial 4: I i j j k k changes to i i j j k l.\n",
      "Trial 5: A: I I J J K K\n"
     ]
    }
   ],
   "source": [
    "\"\"\" \n",
    "Zero-shot \n",
    "Expected answer: i i j j l l\n",
    "Original response:\n",
    "Not shown, but they were all incorrect\n",
    "\"\"\"\n",
    "ex2_1_input = [\n",
    "    [\"abc\", \"abd\", \"iijjkk\", \"\"]\n",
    "]\n",
    "solver.challenge(ex2_1_input)"
   ]
  },
  {
   "cell_type": "code",
   "execution_count": 7,
   "id": "ebb3b37a",
   "metadata": {},
   "outputs": [
    {
     "name": "stdout",
     "output_type": "stream",
     "text": [
      "Running 5 trials...\n",
      ">>>>>>>>>> PROMPT <<<<<<<<<<\n",
      "Q: If a b c changes to a b d , what does i i j j k k change to?\n",
      "A: i i j j l l\n",
      "Q: If a b c changes to a b d , what does m m n n o o change to?\n",
      ">>>>>>>>>> GPT-3 Response <<<<<<<<<< \n",
      "Trial 1: A: m m n n p p\n",
      "Trial 2: A: m m n n p p\n",
      "Trial 3: A: m m n n p p\n",
      "Trial 4: A: m m n n p p\n",
      "Trial 5: A: m m n n p p\n"
     ]
    }
   ],
   "source": [
    "\"\"\" \n",
    "One-shot\n",
    "Expected answer: m m n n p p \n",
    "Original response:\n",
    "m m n n p p (each trial)\n",
    "\"\"\"\n",
    "ex2_2_input = [\n",
    "    [\"abc\", \"abd\", \"iijjkk\", \"iijjll\"],\n",
    "    [\"abc\", \"abd\", \"mmnnoo\", \"\"]\n",
    "]\n",
    "solver.challenge(ex2_2_input)"
   ]
  },
  {
   "cell_type": "code",
   "execution_count": 8,
   "id": "a79a0280",
   "metadata": {},
   "outputs": [
    {
     "name": "stdout",
     "output_type": "stream",
     "text": [
      "Running 5 trials...\n",
      ">>>>>>>>>> PROMPT <<<<<<<<<<\n",
      "Q: If a b c changes to a b d , what does i i j j k k change to?\n",
      "A: i i j j l l\n",
      "Q: If a b c changes to a b d , what does q q r r s s t t change to?\n",
      ">>>>>>>>>> GPT-3 Response <<<<<<<<<< \n",
      "Trial 1: A: q q r r s s u u\n",
      "Trial 2: A: q q r r s s t t u u\n",
      "Trial 3: A: q q r r s s u u\n",
      "Trial 4: A: q q r r s s t t\n",
      "Trial 5: A: q q r r s s u u\n"
     ]
    }
   ],
   "source": [
    "\"\"\" \n",
    "Generalizing to different string lengths\n",
    "Expected answer: q q r r s s u u \n",
    "Original response: \n",
    "q q r r s s t t\n",
    "q q r r s s u u\n",
    "q q r r s s u u v\n",
    "q q r r s s t u\n",
    "q q r r s s u u v\n",
    "\"\"\"\n",
    "ex2_3_input = [\n",
    "    [\"abc\", \"abd\", \"iijjkk\", \"iijjll\"],\n",
    "    [\"abc\", \"abd\", \"qqrrsstt\", \"\"]\n",
    "]\n",
    "solver.challenge(ex2_3_input)"
   ]
  },
  {
   "cell_type": "code",
   "execution_count": 9,
   "id": "85024267",
   "metadata": {},
   "outputs": [
    {
     "name": "stdout",
     "output_type": "stream",
     "text": [
      "Running 5 trials...\n",
      ">>>>>>>>>> PROMPT <<<<<<<<<<\n",
      "Q: If a b c changes to a b d , what does i i j j k k change to?\n",
      "A: i i j j l l\n",
      "Q: If a b c changes to a b d , what does m m n n o o p p change to?\n",
      "A: m m n n o o q q\n",
      "Q: If a b c changes to a b d , what does e e f f g g h h i i change to?\n",
      ">>>>>>>>>> GPT-3 Response <<<<<<<<<< \n",
      "Trial 1: A: e e f f g g h h j j\n",
      "Trial 2: A: e e f f g g h h j j\n",
      "Trial 3: A: e e f f g g h h j j\n",
      "Trial 4: A: e e f f g g h h j j\n",
      "Trial 5: A: e e f f g g h h j j\n"
     ]
    }
   ],
   "source": [
    "\"\"\" \n",
    "Providing two training examples \n",
    "Expected answer: e e f f g g h h j j\n",
    "Original response:\n",
    "e e f f g g h h j j\n",
    "e e f f g g i i\n",
    "e e f f g g i i j j\n",
    "e e f f g g h h i i\n",
    "e e f f g g i i\n",
    "\"\"\"\n",
    "ex2_4_input = [\n",
    "    [\"abc\", \"abd\", \"iijjkk\", \"iijjll\"],\n",
    "    [\"abc\", \"abd\", \"mmnnoopp\", \"mmnnooqq\"],\n",
    "    [\"abc\", \"abd\", \"eeffgghhii\", \"\"]\n",
    "]\n",
    "\n",
    "solver.challenge(ex2_4_input)"
   ]
  },
  {
   "cell_type": "markdown",
   "id": "ef1fab25",
   "metadata": {},
   "source": [
    "### Experiment 3: Cleaning up a string"
   ]
  },
  {
   "cell_type": "code",
   "execution_count": 10,
   "id": "38f61473",
   "metadata": {},
   "outputs": [
    {
     "name": "stdout",
     "output_type": "stream",
     "text": [
      "Running 5 trials...\n",
      ">>>>>>>>>> PROMPT <<<<<<<<<<\n",
      "Q: If a b b c d e changes to a b c d e , what does m n o o p q r change to?\n",
      ">>>>>>>>>> GPT-3 Response <<<<<<<<<< \n",
      "Trial 1: A: m n o p q r\n",
      "Trial 2: m n o p q r\n",
      "Trial 3: m n o p q r\n",
      "Trial 4: If a b b c d e changes to a b c d e , then m n o o p q r changes to m n o p q r.\n",
      "Trial 5: m n o p q r\n"
     ]
    }
   ],
   "source": [
    "\"\"\" \n",
    "Zero-shot\n",
    "(Not in original article) \n",
    "Expected answer: m n o p q r \n",
    "\"\"\"\n",
    "ex3_1_zeroshot_input = [\n",
    "    [\"abbcde\", \"abcde\", \"mnoopqr\", \"\"]\n",
    "]\n",
    "solver.challenge(ex3_1_zeroshot_input)\n"
   ]
  },
  {
   "cell_type": "code",
   "execution_count": 11,
   "id": "f94a27e1",
   "metadata": {},
   "outputs": [
    {
     "name": "stdout",
     "output_type": "stream",
     "text": [
      "Running 5 trials...\n",
      ">>>>>>>>>> PROMPT <<<<<<<<<<\n",
      "Q: If a b b c d e changes to a b c d e , what does p q r r s t change to?\n",
      "A: p q r s t\n",
      "Q: If a b b c d e changes to a b c d e , what does m n o o p q r change to?\n",
      ">>>>>>>>>> GPT-3 Response <<<<<<<<<< \n",
      "Trial 1: A: m n o p q r\n",
      "Trial 2: A: m n o p q r\n",
      "Trial 3: A: m n o p q r\n",
      "Trial 4: A: m n o p q r\n",
      "Trial 5: A: m n o p q r\n"
     ]
    }
   ],
   "source": [
    "\"\"\" \n",
    "One-shot \n",
    "Expected answer: m n o q p r \n",
    "Original response:\n",
    "m n o p q r\n",
    "m n o p q r\n",
    "m n p q r\n",
    "m n p q r \n",
    "m n o p q r\n",
    "\"\"\"\n",
    "ex3_1_input = [\n",
    "    [\"abbcde\", \"abcde\", \"pqrrst\", \"pqrst\"],\n",
    "    [\"abbcde\", \"abcde\", \"mnoopqr\", \"\"]\n",
    "]\n",
    "solver.challenge(ex3_1_input)"
   ]
  },
  {
   "cell_type": "code",
   "execution_count": 12,
   "id": "a9ccb4fc",
   "metadata": {},
   "outputs": [
    {
     "name": "stdout",
     "output_type": "stream",
     "text": [
      "Running 5 trials...\n",
      ">>>>>>>>>> PROMPT <<<<<<<<<<\n",
      "Q: If a x b x c x changes to a b c , what does p x q x x r x change to?\n",
      "A: p q r\n",
      "Q: If a x b x c x changes to a b c , what does r x s x t x x change to?\n",
      "A: r s t\n",
      "Q: If a x b x c x changes to a b c , what does m x n x o x x p change to?\n",
      ">>>>>>>>>> GPT-3 Response <<<<<<<<<< \n",
      "Trial 1: A: m n o p\n",
      "Trial 2: A: m n o p\n",
      "Trial 3: A: m n o p\n",
      "Trial 4: A: m n o p\n",
      "Trial 5: A: m n o p\n"
     ]
    }
   ],
   "source": [
    "\"\"\" \n",
    "Expected answer: m n o p \n",
    "Original response:\n",
    "m n o\n",
    "m n p\n",
    "m n o p\n",
    "m n o\n",
    "m n p\n",
    "\"\"\"\n",
    "ex3_2_input = [\n",
    "    [\"axbxcx\", \"abc\", \"pxqxxrx\", \"pqr\"],\n",
    "    [\"axbxcx\", \"abc\", \"rxsxtxx\", \"rst\"],\n",
    "    [\"axbxcx\", \"abc\", \"mxnxoxxp\", \"\"]\n",
    "]\n",
    "\n",
    "solver.challenge(ex3_2_input)"
   ]
  },
  {
   "cell_type": "code",
   "execution_count": 13,
   "id": "91146630",
   "metadata": {},
   "outputs": [
    {
     "name": "stdout",
     "output_type": "stream",
     "text": [
      "Running 5 trials...\n",
      ">>>>>>>>>> PROMPT <<<<<<<<<<\n",
      "Q: If a x b x c x changes to a b c , what does p x q x x r x change to?\n",
      "A: p q r\n",
      "Q: If a x b x c x changes to a b c , what does r x s x t x x change to?\n",
      "A: r s t\n",
      "Q: If a x b x c x changes to a b c , what does m x n x o x x p change to?\n",
      "A: m n o p\n",
      "Q: If a x b x c x changes to a b c , what does x i x x j x k change to?\n",
      ">>>>>>>>>> GPT-3 Response <<<<<<<<<< \n",
      "Trial 1: A: i j k\n",
      "Trial 2: A: i j k\n",
      "Trial 3: A: i j k\n",
      "Trial 4: A: i j k\n",
      "Trial 5: A: i j k\n"
     ]
    }
   ],
   "source": [
    "\"\"\" \n",
    "Using the character to be removed at the start of the target string\n",
    "Expected answer: i j k \n",
    "Original response:\n",
    "Not shown, but incorrect each time.\n",
    "\"\"\"\n",
    "ex3_5_input = [\n",
    "    [\"axbxcx\", \"abc\", \"pxqxxrx\", \"pqr\"],\n",
    "    [\"axbxcx\", \"abc\", \"rxsxtxx\", \"rst\"],\n",
    "    [\"axbxcx\", \"abc\", \"mxnxoxxp\", \"mnop\"],\n",
    "    [\"axbxcx\", \"abc\", \"xixxjxk\", \"\"]\n",
    "]\n",
    "solver.challenge(ex3_5_input)"
   ]
  },
  {
   "cell_type": "markdown",
   "id": "a1401367",
   "metadata": {},
   "source": [
    "### Experiment 4: Analogies involving abstract examples of \"successorship\""
   ]
  },
  {
   "cell_type": "code",
   "execution_count": 14,
   "id": "cbfda93b",
   "metadata": {},
   "outputs": [
    {
     "name": "stdout",
     "output_type": "stream",
     "text": [
      "Running 5 trials...\n",
      ">>>>>>>>>> PROMPT <<<<<<<<<<\n",
      "Q: If a b c changes to a b d , what does p q r change to?\n",
      "A: p q s\n",
      "Q: If a b c changes to a b d , what does i j k l m change to?\n",
      "A: i j k l n\n",
      "Q: If a b c changes to a b d , what does r s t u v w change to?\n",
      "A: r s t u v x\n",
      "Q: If a b c changes to a b d , what does j y y q q q change to?\n",
      ">>>>>>>>>> GPT-3 Response <<<<<<<<<< \n",
      "Trial 1: A: j y y q q r\n",
      "Trial 2: A: j y y q q r\n",
      "Trial 3: A: j y y q q r\n",
      "Trial 4: A: j y y q q r\n",
      "Trial 5: A: j y y q q r\n"
     ]
    }
   ],
   "source": [
    "\"\"\" \n",
    "Generalizing from letter-successor to abstract number successor \n",
    "Expected answer: j y y q q q q \n",
    "Original response:\n",
    "j y y r r r\n",
    "j y y q q r 2\n",
    "j y y q q q\n",
    "j y y r r r\n",
    "j y y q r\n",
    "\"\"\"\n",
    "ex4_1_input = [\n",
    "    [\"abc\", \"abd\", \"pqr\", \"pqs\"],\n",
    "    [\"abc\", \"abd\", \"ijklm\", \"ijkln\"],\n",
    "    [\"abc\", \"abd\", \"rstuvw\", \"rstuvx\"],\n",
    "    [\"abc\", \"abd\", \"jyyqqq\", \"\"],\n",
    "]\n",
    "solver.challenge(ex4_1_input)"
   ]
  },
  {
   "cell_type": "code",
   "execution_count": 15,
   "id": "a877926c",
   "metadata": {},
   "outputs": [
    {
     "name": "stdout",
     "output_type": "stream",
     "text": [
      "Running 5 trials...\n",
      ">>>>>>>>>> PROMPT <<<<<<<<<<\n",
      "Q: If q l g changes to q l l g g g , what does x m r change to?\n",
      "A: x m m r r r\n",
      "Q: If q l g changes to q l l g g g , what does r m q d change to?\n",
      "A: r m m q q q d d d d\n",
      "Q: If q l g changes to q l l g g g , what does b o c v change to?\n",
      ">>>>>>>>>> GPT-3 Response <<<<<<<<<< \n",
      "Trial 1: A: b o o c c c v v v v\n",
      "Trial 2: A: b o o c c c v v v v\n",
      "Trial 3: A: b o o c c c v v v v v\n",
      "Trial 4: A: b o o c c c v v v v\n",
      "Trial 5: A: b o o c c c v v v v\n"
     ]
    }
   ],
   "source": [
    "\"\"\" \n",
    "Abstract numerical sequence \n",
    "Expected answer: b o o c c c v v v v\n",
    "Original response:\n",
    "b o o c c v v v v v v\n",
    "b o o c c v v v v v v v v v v v v v\n",
    "b o o c v v v\n",
    "b o b o c c c v v v v\n",
    "b o o c c c v v v v\n",
    "\"\"\"\n",
    "ex4_2_input = [\n",
    "    [\"qlg\", \"qllggg\", \"xmr\", \"xmmrrr\"],\n",
    "    [\"qlg\", \"qllggg\", \"rmqd\", \"rmmqqqdddd\"],\n",
    "    [\"qlg\", \"qllggg\", \"bocv\", \"\"]\n",
    "]\n",
    "solver.challenge(ex4_2_input)"
   ]
  },
  {
   "cell_type": "code",
   "execution_count": 16,
   "id": "13e5df25",
   "metadata": {},
   "outputs": [
    {
     "name": "stdout",
     "output_type": "stream",
     "text": [
      "Running 5 trials...\n",
      ">>>>>>>>>> PROMPT <<<<<<<<<<\n",
      "Q: If a b c changes to a b d , what does a a b a b c change to?\n",
      "A: a a b a b c d\n",
      "Q: If a b c changes to a b d , what does p p q p q r change to?\n",
      "A: p p q p q r s\n",
      "Q: If a b c changes to a b d , what does s s t s t u change to?\n",
      ">>>>>>>>>> GPT-3 Response <<<<<<<<<< \n",
      "Trial 1: A: s s t s t u v\n",
      "Trial 2: A: s s t s t u v\n",
      "Trial 3: A: s s t s t u v\n",
      "Trial 4: A: s s t s t u v\n",
      "Trial 5: A: s s t s t u v\n"
     ]
    }
   ],
   "source": [
    "\"\"\" \n",
    "Replacing a substring with its successor \n",
    "Expected answer: s s t s t u v \n",
    "Original response:\n",
    "s s t s t u v (each trial)\n",
    "\"\"\"\n",
    "ex4_3_input = [\n",
    "    [\"abc\", \"abd\", \"aababc\", \"aababcd\"],\n",
    "    [\"abc\", \"abd\", \"ppqpqr\", \"ppqpqrs\"],\n",
    "    [\"abc\", \"abd\", \"sststu\", \"\"],\n",
    "]\n",
    "solver.challenge(ex4_3_input)"
   ]
  },
  {
   "cell_type": "code",
   "execution_count": 17,
   "id": "465a716a",
   "metadata": {},
   "outputs": [
    {
     "name": "stdout",
     "output_type": "stream",
     "text": [
      "Running 5 trials...\n",
      ">>>>>>>>>> PROMPT <<<<<<<<<<\n",
      "Q: If a b c changes to a b d , what does a a b a b c change to?\n",
      "A: a a b a b c d\n",
      "Q: If a b c changes to a b d , what does p p q p q r change to?\n",
      "A: p p q p q r s\n",
      "Q: If a b c changes to a b d , what does e e f e f g e f g h change to?\n",
      ">>>>>>>>>> GPT-3 Response <<<<<<<<<< \n",
      "Trial 1: A: e e f e f g e f g h i\n",
      "Trial 2: A: e e f e f g e f g h i\n",
      "Trial 3: A: e e f e f g e f g h i\n",
      "Trial 4: A: e e f e f g e f g h i\n",
      "Trial 5: A: e e f e f g e f g h i\n"
     ]
    }
   ],
   "source": [
    "\"\"\" \n",
    "Generalizing the above to different-length target strings \n",
    "Expected answer: e e f e f g e f g h i\n",
    "Original response:\n",
    "Not shown, but it got 4/5 correct.\n",
    "\"\"\"\n",
    "ex4_4_input = [\n",
    "    [\"abc\", \"abd\", \"aababc\", \"aababcd\"],\n",
    "    [\"abc\", \"abd\", \"ppqpqr\", \"ppqpqrs\"],\n",
    "    [\"abc\", \"abd\", \"eefefgefgh\", \"\"],\n",
    "]\n",
    "solver.challenge(ex4_4_input)"
   ]
  },
  {
   "cell_type": "markdown",
   "id": "857ab297",
   "metadata": {},
   "source": [
    "### Experiment 5: A letter with no successor"
   ]
  },
  {
   "cell_type": "code",
   "execution_count": 18,
   "id": "1223c3a8",
   "metadata": {},
   "outputs": [
    {
     "name": "stdout",
     "output_type": "stream",
     "text": [
      "Running 5 trials...\n",
      ">>>>>>>>>> PROMPT <<<<<<<<<<\n",
      "Q: If a b c changes to a b d , what does p q r change to?\n",
      "A: p q s\n",
      "Q: If a b c changes to a b d , what does i j k change to?\n",
      "A: i j l\n",
      "Q: If a b c changes to a b d , what does x y z change to?\n",
      ">>>>>>>>>> GPT-3 Response <<<<<<<<<< \n",
      "Trial 1: A: x y a\n",
      "Trial 2: A: x y a\n",
      "Trial 3: A: x y a\n",
      "Trial 4: A: x y a\n",
      "Trial 5: A: x y a\n"
     ]
    }
   ],
   "source": [
    "\"\"\" \n",
    "A letter with no successor \n",
    "Expected answer: x y a \n",
    "Original results:\n",
    "x y a\n",
    "x y w\n",
    "x y b\n",
    "x z y\n",
    "x z b\n",
    "\"\"\"\n",
    "ex5_1_input = [\n",
    "    [\"abc\", \"abd\", \"pqr\", \"pqs\"],\n",
    "    [\"abc\", \"abd\", \"ijk\", \"ijl\"],\n",
    "    [\"abc\", \"abd\", \"xyz\", \"\"],\n",
    "]\n",
    "solver.challenge(ex5_1_input)"
   ]
  },
  {
   "cell_type": "markdown",
   "id": "4b4728e6",
   "metadata": {},
   "source": [
    "### Bonus: Follow-up\n",
    "One prompt from the follow-up article"
   ]
  },
  {
   "cell_type": "code",
   "execution_count": 19,
   "id": "d96373dc",
   "metadata": {},
   "outputs": [
    {
     "name": "stdout",
     "output_type": "stream",
     "text": [
      "Running 5 trials...\n",
      ">>>>>>>>>> PROMPT <<<<<<<<<<\n",
      "Q: If m x q changes to q x m , what does p a b m change to?\n",
      "A: m b a p\n",
      "Q: If m x q changes to q x m , what does y r q l v change to?\n",
      ">>>>>>>>>> GPT-3 Response <<<<<<<<<< \n",
      "Trial 1: A: v l q r y\n",
      "Trial 2: A: q l v r y\n",
      "Trial 3: A: q l v r y\n",
      "Trial 4: A: v l q r y\n",
      "Trial 5: A: l v q r y\n"
     ]
    }
   ],
   "source": [
    "\"\"\" \n",
    "Reversing a string \n",
    "Expected answer: v l q r y\n",
    "Original results:\n",
    "l q r y v\n",
    "r l y q v\n",
    "l y r q v\n",
    "r y l v q\n",
    "\"\"\"\n",
    "ex6_1_input = [\n",
    "    [\"mxq\", \"qxm\", \"pabm\", \"mbap\"],\n",
    "    [\"mxq\", \"qxm\", \"yrqlv\", \"\"],\n",
    "]\n",
    "solver.challenge(ex6_1_input)"
   ]
  },
  {
   "cell_type": "code",
   "execution_count": null,
   "id": "31e0621f",
   "metadata": {},
   "outputs": [],
   "source": []
  }
 ],
 "metadata": {
  "kernelspec": {
   "display_name": "Python 3.10.6 ('.env': venv)",
   "language": "python",
   "name": "python3"
  },
  "language_info": {
   "codemirror_mode": {
    "name": "ipython",
    "version": 3
   },
   "file_extension": ".py",
   "mimetype": "text/x-python",
   "name": "python",
   "nbconvert_exporter": "python",
   "pygments_lexer": "ipython3",
   "version": "3.11.0b5"
  },
  "vscode": {
   "interpreter": {
    "hash": "0d6f052415c956c4c8bd8689ceff4bee1ac327040edc7df8e3b40826f6a76426"
   }
  }
 },
 "nbformat": 4,
 "nbformat_minor": 5
}
